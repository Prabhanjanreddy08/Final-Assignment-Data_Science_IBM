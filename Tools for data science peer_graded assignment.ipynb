{
 "cells": [
  {
   "cell_type": "markdown",
   "metadata": {
    "collapsed": true
   },
   "source": [
    "# My Jupyter Notebook on IBM Watson Studio\n"
   ]
  },
  {
   "cell_type": "markdown",
   "metadata": {},
   "source": [
    "## Introduction\n",
    "\n",
    "In this notebook, we explore various aspects of data science, including the tools, languages, and libraries that are essential for data science. We also cover basic arithmetic expressions and simple conversions that are often part of data science workflows. This notebook will demonstrate key concepts using both markdown and code cells.\n"
   ]
  },
  {
   "cell_type": "markdown",
   "metadata": {},
   "source": [
    "## Data Science Languages\n",
    "\n",
    "The most commonly used programming languages in data science are:\n",
    "\n",
    "- Python\n",
    "- R\n",
    "- SQL\n",
    "- Java\n",
    "- Julia\n",
    "- Scala\n"
   ]
  },
  {
   "cell_type": "markdown",
   "metadata": {},
   "source": [
    "## Data Science Libraries\n",
    "\n",
    "Data science projects rely heavily on libraries that simplify complex tasks. Some of the most widely used libraries are:\n",
    "\n",
    "- **NumPy**: Numerical computing\n",
    "- **Pandas**: Data manipulation and analysis\n",
    "- **Matplotlib**: Data visualization\n",
    "- **Seaborn**: Statistical data visualization\n",
    "- **SciPy**: Scientific and technical computing\n",
    "- **Scikit-learn**: Machine learning\n",
    "- **TensorFlow**: Deep learning\n"
   ]
  },
  {
   "cell_type": "markdown",
   "metadata": {},
   "source": [
    "## Data Science Tools\n",
    "\n",
    "Here is a table of popular tools used in data science:\n",
    "\n",
    "| Tool              | Description                                  | Usage                  |\n",
    "|-------------------|----------------------------------------------|------------------------|\n",
    "| Jupyter Notebook  | Open-source web application for code execution and visualization | Interactive computing  |\n",
    "| GitHub            | Code hosting platform                       | Version control & collaboration |\n",
    "| Tableau           | Data visualization tool                      | Business intelligence  |\n",
    "| Docker            | Containerization tool                        | Environment management |\n",
    "| AWS               | Cloud computing platform                    | Data storage and analysis |\n"
   ]
  },
  {
   "cell_type": "markdown",
   "metadata": {},
   "source": [
    "## Arithmetic Expression Examples\n",
    "\n",
    "In this section, we'll demonstrate basic arithmetic operations using Python. These operations are the foundation of many data science tasks, including data manipulation and mathematical modeling.\n"
   ]
  },
  {
   "cell_type": "code",
   "execution_count": 2,
   "metadata": {},
   "outputs": [
    {
     "data": {
      "text/plain": [
       "(15, 8)"
      ]
     },
     "execution_count": 2,
     "metadata": {},
     "output_type": "execute_result"
    }
   ],
   "source": [
    "# Multiplying and adding numbers\n",
    "a = 5\n",
    "b = 3\n",
    "\n",
    "# Multiplying\n",
    "multiplication_result = a * b\n",
    "\n",
    "# Adding\n",
    "addition_result = a + b\n",
    "\n",
    "multiplication_result, addition_result\n"
   ]
  },
  {
   "cell_type": "code",
   "execution_count": 3,
   "metadata": {},
   "outputs": [
    {
     "data": {
      "text/plain": [
       "2.0"
      ]
     },
     "execution_count": 3,
     "metadata": {},
     "output_type": "execute_result"
    }
   ],
   "source": [
    "# Convert minutes to hours\n",
    "def convert_minutes_to_hours(minutes):\n",
    "    hours = minutes / 60\n",
    "    return hours\n",
    "\n",
    "# Example conversion: Convert 120 minutes to hours\n",
    "convert_minutes_to_hours(120)\n"
   ]
  },
  {
   "cell_type": "markdown",
   "metadata": {},
   "source": [
    "## Objectives\n",
    "\n",
    "In this notebook, the following objectives are covered:\n",
    "\n",
    "- Explore and list essential data science languages.\n",
    "- Discuss the key libraries used in data science.\n",
    "- Present a table of popular data science tools.\n",
    "- Demonstrate arithmetic operations using Python.\n",
    "- Perform a simple conversion of minutes to hours using Python.\n"
   ]
  },
  {
   "cell_type": "markdown",
   "metadata": {},
   "source": [
    "## Author\n",
    "\n",
    "This notebook was created by [Your Name]. Feel free to reach out for feedback or further discussion on the topics covered.\n"
   ]
  },
  {
   "cell_type": "markdown",
   "metadata": {},
   "source": []
  }
 ],
 "metadata": {
  "kernelspec": {
   "display_name": "Python 3",
   "language": "python",
   "name": "python3"
  },
  "language_info": {
   "codemirror_mode": {
    "name": "ipython",
    "version": 3
   },
   "file_extension": ".py",
   "mimetype": "text/x-python",
   "name": "python",
   "nbconvert_exporter": "python",
   "pygments_lexer": "ipython3",
   "version": "3.11.4"
  }
 },
 "nbformat": 4,
 "nbformat_minor": 1
}
